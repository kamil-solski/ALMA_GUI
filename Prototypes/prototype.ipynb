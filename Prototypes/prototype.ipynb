{
 "cells": [
  {
   "cell_type": "markdown",
   "metadata": {},
   "source": [
    "## ALMA inference\n",
    "\n",
    "The purpose of this project is to use ALMA model (write simple program to inference it through localhost web ui - no langchain, no complicated libraries, just simple webapp). \n",
    "\n",
    "This project could be also a way to test some solutions for web interfaces of more complicated DocWhisper project. \n",
    "Because model is not just translator, to get just translation functionality we got two options:\n",
    "- hard prompting (ad hoc solution)\n",
    "- disitlation of model (from decoder-only to encoder-decoder architecture)\n",
    "\n",
    "1) we quantize model to smaller size (if X-ALMA will not be possible we could use GGUF version) - in other project we will learn how to quantize models to for example GGUF ourselves (patrz. BIBLIOTEKA_transformers-GPTs)\n",
    "    - how to quatize model?\n",
    "    - how to save it to for example GGUF?\n",
    "2) we distill knowledge to smaller model\n",
    "3) we create simple algo for inference\n",
    "4) we import our custom model \n",
    "\n",
    "It is not worth to lower precision to int8 for pre-quantize model for now (I might look into it in a future)"
   ]
  },
  {
   "cell_type": "code",
   "execution_count": null,
   "metadata": {},
   "outputs": [],
   "source": [
    "# Text to przetłumaczenia\n",
    "# \"Translate this from Polish to English:\\nPolish: Tak więc MoE łączy kilka innych modeli, aby wybrać, który ślad (część modelu) powinna zostać użyta do uzyskania prawidłowej odpowiedzi. Jest to technika optymalizacji. Agentic Workflow z drugiej strony to wiele niezależnych modeli, które działają w ramach jakiejś aplikacji, np. jeśli dane wejściowe to obraz, działają agenci wizji komputerowej itp. Bagging trenuje kilka różnych modeli, każdy na innym zbiorze danych i uśrednia wyniki, a boosting używa kilku różnych modeli, z których każdy poprawia błędy poprzedniego. Czy to wyjaśnienie jest poprawne? \\nEnglish:\""
   ]
  },
  {
   "cell_type": "code",
   "execution_count": 1,
   "metadata": {},
   "outputs": [],
   "source": [
    "import torch\n",
    "import pathlib\n",
    "from transformers import AutoTokenizer, AutoModelForCausalLM, BitsAndBytesConfig\n",
    "#from peft import PeftModel\n",
    "#from transformers import pipeline\n",
    "#from llama_cpp import Llama\n",
    "from tqdm import tqdm\n",
    "import matplotlib.pyplot as plt\n",
    "from collections import defaultdict\n",
    "import re\n",
    "import json\n",
    "import pdfplumber"
   ]
  },
  {
   "cell_type": "code",
   "execution_count": 2,
   "metadata": {},
   "outputs": [
    {
     "data": {
      "text/plain": [
       "device(type='cuda')"
      ]
     },
     "execution_count": 2,
     "metadata": {},
     "output_type": "execute_result"
    }
   ],
   "source": [
    "device = torch.device(\"cuda\" if torch.cuda.is_available() else \"cpu\")\n",
    "device"
   ]
  },
  {
   "cell_type": "code",
   "execution_count": null,
   "metadata": {},
   "outputs": [],
   "source": [
    "cache_dir = pathlib.Path.cwd().parent / \"Model\"\n",
    "metadata_pdf = pathlib.Path.cwd().parent / \"Test_docs\"\n",
    "\n",
    "GROUP2LANG = {\n",
    "1: [\"da\", \"nl\", \"de\", \"is\", \"no\", \"sv\", \"af\"],\n",
    "2: [\"ca\", \"ro\", \"gl\", \"it\", \"pt\", \"es\"],\n",
    "3: [\"bg\", \"mk\", \"sr\", \"uk\", \"ru\"],\n",
    "4: [\"id\", \"ms\", \"th\", \"vi\", \"mg\", \"fr\"],\n",
    "5: [\"hu\", \"el\", \"cs\", \"pl\", \"lt\", \"lv\"],\n",
    "6: [\"ka\", \"zh\", \"ja\", \"ko\", \"fi\", \"et\"],\n",
    "7: [\"gu\", \"hi\", \"mr\", \"ne\", \"ur\"],\n",
    "8: [\"az\", \"kk\", \"ky\", \"tr\", \"uz\", \"ar\", \"he\", \"fa\"],\n",
    "}\n",
    "\n",
    "LANG2GROUP = {lang: group for group, langs in GROUP2LANG.items() for lang in langs}\n",
    "group_id = LANG2GROUP[\"pl\"]\n",
    "\n",
    "model_name = f\"haoranxu/X-ALMA-13B-Group{group_id}\""
   ]
  },
  {
   "cell_type": "code",
   "execution_count": 4,
   "metadata": {},
   "outputs": [
    {
     "name": "stdout",
     "output_type": "stream",
     "text": [
      "Loading pretrained config for `haoranxu/X-ALMA-13B-Group5` from `transformers`...\n",
      "┌──────────────────────────────────────────────────────┐\n",
      "│Memory Usage for loading `haoranxu/X-ALMA-13B-Group5` │\n",
      "├───────┬─────────────┬──────────┬─────────────────────┤\n",
      "│ dtype │Largest Layer│Total Size│ Training using Adam │\n",
      "├───────┼─────────────┼──────────┼─────────────────────┤\n",
      "│float32│   1.18 GB   │ 47.88 GB │      191.51 GB      │\n",
      "│float16│  605.02 MB  │ 23.94 GB │       95.76 GB      │\n",
      "│  int8 │  302.51 MB  │ 11.97 GB │         N/A         │\n",
      "│  int4 │  151.25 MB  │ 5.98 GB  │         N/A         │\n",
      "└───────┴─────────────┴──────────┴─────────────────────┘\n"
     ]
    }
   ],
   "source": [
    "!accelerate estimate-memory haoranxu/X-ALMA-13B-Group5 --library_name transformers"
   ]
  },
  {
   "cell_type": "code",
   "execution_count": 4,
   "metadata": {},
   "outputs": [],
   "source": [
    "bnb_config = BitsAndBytesConfig(\n",
    "    load_in_4bit=True,\n",
    "    bnb_4bit_quant_type=\"nf4\",\n",
    "    bnb_4bit_use_double_quant=True,\n",
    "    bnb_4bit_compute_dtype=torch.bfloat16\n",
    ")"
   ]
  },
  {
   "cell_type": "code",
   "execution_count": 5,
   "metadata": {},
   "outputs": [
    {
     "name": "stderr",
     "output_type": "stream",
     "text": [
      "`low_cpu_mem_usage` was None, now default to True since model is quantized.\n"
     ]
    },
    {
     "data": {
      "application/vnd.jupyter.widget-view+json": {
       "model_id": "5dcf249227ee41749478a3d68b7dcfe5",
       "version_major": 2,
       "version_minor": 0
      },
      "text/plain": [
       "Downloading shards:   0%|          | 0/6 [00:00<?, ?it/s]"
      ]
     },
     "metadata": {},
     "output_type": "display_data"
    },
    {
     "data": {
      "application/vnd.jupyter.widget-view+json": {
       "model_id": "d835eadecb4d4b558f9786a1653cd017",
       "version_major": 2,
       "version_minor": 0
      },
      "text/plain": [
       "Loading checkpoint shards:   0%|          | 0/6 [00:00<?, ?it/s]"
      ]
     },
     "metadata": {},
     "output_type": "display_data"
    }
   ],
   "source": [
    "# loading model\n",
    "model = AutoModelForCausalLM.from_pretrained(model_name, quantization_config=bnb_config, cache_dir=cache_dir).to(device)  \n",
    "tokenizer = AutoTokenizer.from_pretrained(model_name, padding_side=\"left\", cache_dir=cache_dir)"
   ]
  },
  {
   "cell_type": "code",
   "execution_count": null,
   "metadata": {},
   "outputs": [],
   "source": [
    "metadata_path = pathlib.Path.cwd().parent / \"Test_docs/metadata_pdf.json\"\n",
    "pdf_path = pathlib.Path.cwd().parent / \"Test_docs/Test_ALMA.pdf\""
   ]
  },
  {
   "cell_type": "code",
   "execution_count": 30,
   "metadata": {},
   "outputs": [],
   "source": [
    "def extract_pdf_with_placeholders(pdf_path, metadata_path):\n",
    "    \"\"\"Extract text from PDF with image placeholders and save metadata.\"\"\"\n",
    "    output_text = \"\"\n",
    "    metadata = []\n",
    "    sentence_index = 0\n",
    "\n",
    "    with pdfplumber.open(pdf_path) as pdf:\n",
    "        for page_num, page in enumerate(pdf.pages, start=1):\n",
    "            words = page.extract_words()\n",
    "            images = page.images\n",
    "\n",
    "            elements = [(float(w['top']), w['text']) for w in words]\n",
    "            elements += [(float(img['top']), '[IMAGE]') for img in images]\n",
    "            elements.sort(key=lambda x: x[0])\n",
    "            \n",
    "            page_text = \" \".join([content for _, content in elements])\n",
    "            metadata.append({\n",
    "                \"page_number\": page_num,\n",
    "                \"start_sentence_index\": sentence_index\n",
    "            })\n",
    "            output_text += page_text + \" \"\n",
    "            sentence_index += page_text.count('.') + page_text.count('!') + page_text.count('?')\n",
    "\n",
    "    with open(metadata_path, 'w') as json_file:\n",
    "        json.dump(metadata, json_file, indent=4)\n",
    "    \n",
    "    return output_text.strip()"
   ]
  },
  {
   "cell_type": "markdown",
   "metadata": {},
   "source": [
    "### Check token size distribution for a single sentence"
   ]
  },
  {
   "cell_type": "code",
   "execution_count": 18,
   "metadata": {},
   "outputs": [],
   "source": [
    "def calculate_token_histogram(tokenizer, text):\n",
    "    \"\"\"Calculate and display a histogram of token sizes per sentence.\"\"\"\n",
    "    sentences = text.split('. ')\n",
    "    token_counts = defaultdict(int)\n",
    "    \n",
    "    for sentence in sentences:\n",
    "        tokenized_length = len(tokenizer(sentence, return_tensors=\"pt\").input_ids[0])\n",
    "        token_counts[tokenized_length] += 1\n",
    "        \n",
    "    plt.figure(figsize=(8, 5))\n",
    "    plt.bar(token_counts.keys(), token_counts.values(), color='skyblue')\n",
    "    plt.xlabel('Token Count per Sentence')\n",
    "    plt.ylabel('Frequency')\n",
    "    plt.title('Sentence Token Count Histogram')\n",
    "    plt.grid(True, linestyle='--', alpha=0.7)\n",
    "    plt.show()\n",
    "    return dict(token_counts)"
   ]
  },
  {
   "cell_type": "code",
   "execution_count": 19,
   "metadata": {},
   "outputs": [
    {
     "data": {
      "image/png": "[encoded data removed]",
      "text/plain": [
       "<Figure size 800x500 with 1 Axes>"
      ]
     },
     "metadata": {},
     "output_type": "display_data"
    },
    {
     "data": {
      "text/plain": [
       "{24: 1,\n",
       " 20: 1,\n",
       " 46: 1,\n",
       " 44: 1,\n",
       " 72: 1,\n",
       " 21: 2,\n",
       " 49: 2,\n",
       " 8: 1,\n",
       " 43: 3,\n",
       " 25: 1,\n",
       " 3: 1,\n",
       " 41: 1,\n",
       " 52: 1,\n",
       " 42: 2,\n",
       " 26: 1,\n",
       " 36: 1,\n",
       " 31: 2,\n",
       " 85: 1,\n",
       " 27: 1,\n",
       " 88: 1,\n",
       " 50: 1,\n",
       " 45: 1,\n",
       " 37: 1,\n",
       " 55: 1,\n",
       " 63: 1,\n",
       " 28: 1,\n",
       " 32: 2,\n",
       " 34: 1,\n",
       " 51: 1,\n",
       " 70: 1,\n",
       " 58: 1,\n",
       " 76: 1,\n",
       " 67: 1}"
      ]
     },
     "execution_count": 19,
     "metadata": {},
     "output_type": "execute_result"
    }
   ],
   "source": [
    "text_test = extract_pdf_with_placeholders(pdf_path, metadata_path)\n",
    "calculate_token_histogram(tokenizer, text_test)  # lets just check how many tokens have sentences on average. It will be helpful to adjust max_tokens"
   ]
  },
  {
   "cell_type": "markdown",
   "metadata": {},
   "source": [
    "### Inference of model"
   ]
  },
  {
   "cell_type": "code",
   "execution_count": 27,
   "metadata": {},
   "outputs": [],
   "source": [
    "def split_text_into_chunks(tokenizer, text, max_tokens=250):\n",
    "    \"\"\"Split text into chunks without splitting sentences, ensuring each chunk fits max token size.\"\"\"\n",
    "    sentences = text.split('. ')\n",
    "    chunks, current_chunk = [], \"\"\n",
    "    for sentence in sentences:\n",
    "        temp_chunk = current_chunk + sentence + \". \"\n",
    "        if len(tokenizer(temp_chunk, return_tensors=\"pt\").input_ids[0]) <= max_tokens:\n",
    "            current_chunk = temp_chunk\n",
    "        else:\n",
    "            if current_chunk:\n",
    "                chunks.append(current_chunk.strip())\n",
    "            current_chunk = sentence + \". \"\n",
    "    if current_chunk:\n",
    "        chunks.append(current_chunk.strip())\n",
    "    return chunks"
   ]
  },
  {
   "cell_type": "code",
   "execution_count": 31,
   "metadata": {},
   "outputs": [],
   "source": [
    "#text = \"Tak więc MoE łączy kilka innych modeli, aby wybrać, który ślad (część modelu) powinna zostać użyta do uzyskania prawidłowej odpowiedzi.\"\n",
    "text = extract_pdf_with_placeholders(pdf_path, metadata_path)\n",
    "chunks = split_text_into_chunks(tokenizer, text)"
   ]
  },
  {
   "cell_type": "code",
   "execution_count": 32,
   "metadata": {},
   "outputs": [
    {
     "data": {
      "text/plain": [
       "'Oryginalny skrypt wykorzystuje metodę A3C z biblioteki deepchem. W implementacji tej brakuje zwracanych metryk oraz progresu trenowania. W uczeniu przez wzmocnienie, skuteczna optymalizacja jest trudna bez szczegółowej analizy wydajności w miarę progresu uczenia. Aby to osiągnąć, monitoruje się szereg metryk, z których każda zapewnia wgląd w różne aspekty zachowania agenta. Metryki zaimplementowane w moich skryptach, obejmują kilka kluczowych wskaźników procesu uczenia się: skumulowane nagrody, średnie nagrody, zdyskontowane nagrody, entropię i długości epizodów. Wskaźniki te, często analizowane w wygładzonej (ang. Smoothed) formie, zapewniają kompleksowy obraz wydajności agenta, kompromisów między eksploracją a eksploatacją oraz wydajności treningu. Wygładzanie (ang. Smoothing) wykorzystuje średnią ruchomą, czyli każdy punkt danych jest zastępowany średnią sąsiednich punktów. Ilość punktów liczonych do tych średnich jest wyznaczana przez tzw. okno. Technika ta redukuje szumy i krótkoterminowe wahania, umożliwiając wyraźniejszą wizualizację trendów. Na przykład nagłe skoki nagród spowodowane przypadkowymi działaniami eksploracyjnymi mogą zaciemnić ogólną trajektorię progresu uczenia. Wygładzenie łagodzi te wartości odstające, zapewniając dokładniejsze odzwierciedlenie postępów w nauce agenta. Wybór odpowiedniego okna rozmiaru ma znaczenie z uwagi na tempo zmian. Zbyt małe okno zostawi nienaruszone szumy, zbyt duże okno niweluje widoczność nagłych zmian, wpływając przez to na interpretację. Skumulowane nagrody mierzą całkowitą nagrodę zgromadzoną przez agenta we wszystkich epizodach. Wskaźnik ten odzwierciedla długoterminowy sukces agenta w osiąganiu jego celów. Stały wzrost skumulowanych nagród wskazuje na skuteczne uczenie się i adaptację, podczas gdy płaskowyże lub spadki mogą oznaczać stagnację, lub wyzwania w uczeniu się (o ile agent nie osiągnął już maksymalnej wartości nagrody). [IMAGE] Wyk.1 Wygładzone skumulowane nagrody dla agenta metody PPO. Na przedstawionym wykresie można wyróżnić dwie fazy. Faza początkowa (epizody 0-250), podczas której wartość skumulowanej nagrody zaczyna się od wartości najniższej równej 0,6 i stale rośnie, wskazując, że agent uczy się osiągać wyższe nagrody w miarę postępu szkolenia. Faza stabilizacji (epizody 250-2000), gdzie skumulowana nagroda osiąga wartość zbliżoną do maksymalnej (1,0). Sugeruje to, że agent osiągnął optymalną lub zbliżoną do optymalnej politykę. Obecność niewielkich wahań podczas tej fazy jest normalna i może wynikać z ciągłej eksploracji lub zmienności w środowisku. Widoczne są wahania na płaskowyżu (epizody 1000-2000), które są sporadyczne. Spadki te mogą wskazywać na: \\uf0b7 Środowisko wprowadzające elementy stochastyczne, sprawiające, że niektóre epizody są trudniejsze od innych. \\uf0b7 Agent kontynuuje badanie nieco nieoptymalnych działań, co jest niezbędnym krokiem do udoskonalenia polityki. \\uf0b7 Możliwe niestabilności w aktualizacjach polityki, choć powrót do normy sugeruje, że nie są one poważne. Wysoka wydajność (skumulowana nagroda w pobliżu 1,0), oznacza, że agent konsekwentnie osiąga dobre wyniki w osiąganiu celów, z niewielkimi odchyleniami. Oznacza to, że model ten nauczył się polityki, która bardzo dobrze generalizuje. Średnia nagroda na epizod reprezentuje natychmiastową wydajność agenta w każdym epizodzie. Wskaźnik ten zapewnia krótkoterminowy obraz tego, jak dobrze agent optymalizuje swoje działania. Stopniowy wzrost średnich nagród zazwyczaj oznacza, że agent uczy się podejmować lepsze decyzje w ramach ograniczeń środowiska. Discounted Rewards uwzględniają długoterminowy wpływ na akcje, poprzez stosowanie decay dla przyszłych nagród. Metryka ta ma kluczowe znaczenie dla agentów szkolonych ze współczynnikiem decay (γ), ponieważ odzwierciedla ich zdolność do równoważenia krótkoterminowych zysków z długotrwałymi korzyściami. Porównanie nagród średnich i discounted pomaga ocenić, czy agent równoważy nagrody krótko jak i długoterminowe oraz, czy wyuczona przez agenta jest skuteczna i stabilna. [IMAGE] Wyk.2 Porównanie wygładzonych średnich nagród z discounted agenta PPO. Zarówno średnia nagroda, jak i zdyskontowane krzywe nagród wykazują podobne zachowanie oscylacyjne z ogólnym trendem wzrostowym we wczesnych epizodach, odzwierciedlając skuteczne uczenie się agenta PPO. Z biegiem czasu nagrody stabilizują się, ale nadal się wahają ze względu na nieodłączną stochastyczność uczenia się ze wzmocnieniem i kompromis między eksploracją a eksploatacją.'"
      ]
     },
     "execution_count": 32,
     "metadata": {},
     "output_type": "execute_result"
    }
   ],
   "source": [
    "text"
   ]
  },
  {
   "cell_type": "code",
   "execution_count": 33,
   "metadata": {},
   "outputs": [],
   "source": [
    "def translate_text(model, tokenizer, chunks, source_lang=\"Polish\", target_lang=\"English\"):\n",
    "    \"\"\"Translate text chunks and extract only content after [/INST] with proper regex handling.\"\"\"\n",
    "    output = []\n",
    "    for chunk in tqdm(chunks, desc=\"Generating progress\"):\n",
    "        chat_style_prompt = [{\"role\": \"user\", \"content\": f\"Translate this from {source_lang} to {target_lang}:\\n{source_lang}:\\n{chunk}\\n{target_lang}:\"}]\n",
    "        prompt = tokenizer.apply_chat_template(chat_style_prompt, tokenize=False, add_generation_prompt=True)\n",
    "        input_ids = tokenizer(prompt, return_tensors=\"pt\", padding=True, truncation=True).input_ids.to(device)\n",
    "\n",
    "        with torch.no_grad():\n",
    "            generated_ids = model.generate(\n",
    "                input_ids=input_ids,\n",
    "                num_beams=3,  # Lowered beams for faster inference. TODO: check 5\n",
    "                max_new_tokens=2048,  # Extended output length to 2048 tokens wich is maximum possible\n",
    "                do_sample=True,\n",
    "                temperature=0.6,  # Slightly higher temperature for more creative results. TODO: try lower (would be better for translation)\n",
    "                top_p=0.9  # Slightly wider nucleus sampling for diversity. TODO: check other values\n",
    "            )\n",
    "            result = tokenizer.batch_decode(generated_ids, skip_special_tokens=True)[0]\n",
    "            \n",
    "            # Enhanced regex to capture content after [/INST]\n",
    "            match = re.search(r'\\\\?\\[/INST\\\\?\\](.*)', result, re.DOTALL)\n",
    "            translated_text = match.group(1).strip() if match else result.strip()\n",
    "            output.append(translated_text)\n",
    "    \n",
    "    return \" \".join(output)"
   ]
  },
  {
   "cell_type": "code",
   "execution_count": 34,
   "metadata": {},
   "outputs": [
    {
     "name": "stderr",
     "output_type": "stream",
     "text": [
      "Generating progress: 100%|██████████| 8/8 [03:45<00:00, 28.25s/it]\n"
     ]
    }
   ],
   "source": [
    "output = translate_text(model, tokenizer, chunks, source_lang=\"Polish\", target_lang=\"English\")"
   ]
  },
  {
   "cell_type": "code",
   "execution_count": 35,
   "metadata": {},
   "outputs": [
    {
     "data": {
      "text/plain": [
       "\"The original script uses the A3C method from the deepchem library. This implementation lacks returned metrics and progress tracking. In reinforcement learning, effective optimization is difficult without a detailed analysis of performance over time. To achieve this, various metrics are monitored, each providing insight into different aspects of the agent's behavior. The metrics implemented in my scripts include several key indicators of the learning process: cumulative rewards, average rewards, discounted rewards, entropy, and episode lengths. These metrics, often analyzed in smoothed form, provide a comprehensive view of the agent's performance. In smoothed form, it provides a comprehensive picture of agent performance, trade-offs between exploration and exploitation, and training efficiency. Smoothing uses a moving average, where each data point is replaced by the average of its neighboring points. The number of points counted for these averages is determined by the so-called window. This technique reduces noise and short-term fluctuations, enabling a clearer visualization of trends. For example, sudden spikes in rewards caused by random exploratory actions can obscure the overall trajectory of progress in training. The smoothing mitigates these outliers, providing a more accurate reflection of the agent's progress in science. The choice of an appropriate window size is important due to the pace of change. A window that is too small will leave noise intact, while a window that is too large will obscure sudden changes, thereby affecting interpretation. The cumulative reward measures the total reward accumulated by the agent across all episodes. This indicator reflects the agent's long-term success in achieving its goals. The steady increase in the accumulated rewards indicates effective learning and adaptation, while plateaus or decreases may indicate stagnation or challenges in learning (as long as the agent has not already reached the maximum reward value). Figure 1 shows the smoothed accumulated rewards for an agent using PPO. The figure shows two phases. The initial phase (episodes 0–250) begins with a value of 0.6, which steadily increases, indicating that the agent is learning to achieve higher rewards as it progresses through training. The stabilization phase (episodes 250-2000), where the accumulated reward reaches a value close to the maximum (1.0). This suggests that the agent has achieved an optimal or near-optimal policy. The presence of minor fluctuations during this phase is normal and may result from continuous exploration or environmental variability. Fluctuations are visible in the plateau (episodes 1000-2000), which are sporadic. These dips may indicate: \\uf0b7An environment introducing stochastic elements, making some episodes more challenging than others. The agent continues to explore sub-optimal actions, which is a necessary step in policy improvement. Possible instabilities in policy updates, though, suggest that they are not severe. The high performance (accumulated reward close to 1.0) indicates that the agent is consistently achieving its goals, with minor deviations. This means that the model has learned a policy that generalizes very well. The average reward per episode represents the agent's immediate performance in each episode. This metric provides a short-term view of how well the agent optimizes its actions. The gradual increase in average rewards typically indicates that the agent is learning to make better decisions within the constraints of the environment. Discounted Rewards takes into account the long-term impact of actions by applying a decay factor to future rewards. This metric is crucial for agents trained with a decay coefficient (γ), as it reflects their ability to balance short-term gains with long-term benefits. Comparing average rewards and discounted rewards helps assess whether the agent is balancing both short-term and long-term rewards and whether the agent's learning is effective and stable. Figure 2: Comparison of smoothed reward averages with the discounted PPO agent. Both the average reward and the discounted reward curves exhibit similar oscillatory behavior with an overall upward trend in the early episodes, reflecting the PPO agent's effective learning. Over time, the rewards stabilize but continue to fluctuate due to the inherent stochasticity of reinforcement learning and the trade-off between exploration and exploitation.\""
      ]
     },
     "execution_count": 35,
     "metadata": {},
     "output_type": "execute_result"
    }
   ],
   "source": [
    "output"
   ]
  }
 ],
 "metadata": {
  "kernelspec": {
   "display_name": "ALMA",
   "language": "python",
   "name": "python3"
  },
  "language_info": {
   "codemirror_mode": {
    "name": "ipython",
    "version": 3
   },
   "file_extension": ".py",
   "mimetype": "text/x-python",
   "name": "python",
   "nbconvert_exporter": "python",
   "pygments_lexer": "ipython3",
   "version": "3.11.11"
  }
 },
 "nbformat": 4,
 "nbformat_minor": 2
}
