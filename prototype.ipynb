{
 "cells": [
  {
   "cell_type": "markdown",
   "metadata": {},
   "source": [
    "## ALMA inference\n",
    "\n",
    "The purpose of this project is to use ALMA model (write simple program to inference it through localhost web ui - no langchain, no complicated libraries, just simple webapp). \n",
    "\n",
    "This project could be also a way to test some solutions for web interfaces of more complicated DocWhisper project. \n",
    "Because model is not just translator, to get just translation functionality we got two options:\n",
    "- hard prompting (ad hoc solution)\n",
    "- disitlation of model (from decoder-only to encoder-decoder architecture)\n",
    "\n",
    "1) we quantize model to smaller size (if X-ALMA will not be possible we could use GGUF version) - in other project we will learn how to quantize models to for example GGUF ourselves (patrz. BIBLIOTEKA_transformers-GPTs)\n",
    "    - how to quatize model?\n",
    "    - how to save it to for example GGUF?\n",
    "2) we distill knowledge to smaller model\n",
    "3) we create simple algo for inference\n",
    "4) we import our custom model \n",
    "\n",
    "It is not worth to lower precision to int8 for pre-quantize model for now (I might look into it in a future)"
   ]
  },
  {
   "cell_type": "code",
   "execution_count": null,
   "metadata": {},
   "outputs": [],
   "source": [
    "# Text to przetłumaczenia\n",
    "# \"Translate this from Polish to English:\\nPolish: Tak więc MoE łączy kilka innych modeli, aby wybrać, który ślad (część modelu) powinna zostać użyta do uzyskania prawidłowej odpowiedzi. Jest to technika optymalizacji. Agentic Workflow z drugiej strony to wiele niezależnych modeli, które działają w ramach jakiejś aplikacji, np. jeśli dane wejściowe to obraz, działają agenci wizji komputerowej itp. Bagging trenuje kilka różnych modeli, każdy na innym zbiorze danych i uśrednia wyniki, a boosting używa kilku różnych modeli, z których każdy poprawia błędy poprzedniego. Czy to wyjaśnienie jest poprawne? \\nEnglish:\""
   ]
  },
  {
   "cell_type": "code",
   "execution_count": 1,
   "metadata": {},
   "outputs": [],
   "source": [
    "import torch\n",
    "import pathlib\n",
    "from transformers import AutoTokenizer, AutoModelForCausalLM, BitsAndBytesConfig\n",
    "#from peft import PeftModel\n",
    "#from transformers import pipeline\n",
    "#from llama_cpp import Llama\n",
    "import textract\n",
    "from tqdm import tqdm\n",
    "import matplotlib.pyplot as plt\n",
    "from collections import defaultdict"
   ]
  },
  {
   "cell_type": "code",
   "execution_count": 2,
   "metadata": {},
   "outputs": [
    {
     "data": {
      "text/plain": [
       "device(type='cuda')"
      ]
     },
     "execution_count": 2,
     "metadata": {},
     "output_type": "execute_result"
    }
   ],
   "source": [
    "device = torch.device(\"cuda\" if torch.cuda.is_available() else \"cpu\")\n",
    "device"
   ]
  },
  {
   "cell_type": "code",
   "execution_count": 3,
   "metadata": {},
   "outputs": [],
   "source": [
    "cache_dir = pathlib.Path.cwd() / \"Model\"\n",
    "\n",
    "GROUP2LANG = {\n",
    "1: [\"da\", \"nl\", \"de\", \"is\", \"no\", \"sv\", \"af\"],\n",
    "2: [\"ca\", \"ro\", \"gl\", \"it\", \"pt\", \"es\"],\n",
    "3: [\"bg\", \"mk\", \"sr\", \"uk\", \"ru\"],\n",
    "4: [\"id\", \"ms\", \"th\", \"vi\", \"mg\", \"fr\"],\n",
    "5: [\"hu\", \"el\", \"cs\", \"pl\", \"lt\", \"lv\"],\n",
    "6: [\"ka\", \"zh\", \"ja\", \"ko\", \"fi\", \"et\"],\n",
    "7: [\"gu\", \"hi\", \"mr\", \"ne\", \"ur\"],\n",
    "8: [\"az\", \"kk\", \"ky\", \"tr\", \"uz\", \"ar\", \"he\", \"fa\"],\n",
    "}\n",
    "\n",
    "LANG2GROUP = {lang: group for group, langs in GROUP2LANG.items() for lang in langs}\n",
    "group_id = LANG2GROUP[\"pl\"]\n",
    "\n",
    "model_name = f\"haoranxu/X-ALMA-13B-Group{group_id}\""
   ]
  },
  {
   "cell_type": "code",
   "execution_count": 5,
   "metadata": {},
   "outputs": [
    {
     "name": "stdout",
     "output_type": "stream",
     "text": [
      "Loading pretrained config for `haoranxu/X-ALMA-13B-Group5` from `transformers`...\n",
      "┌──────────────────────────────────────────────────────┐\n",
      "│Memory Usage for loading `haoranxu/X-ALMA-13B-Group5` │\n",
      "├───────┬─────────────┬──────────┬─────────────────────┤\n",
      "│ dtype │Largest Layer│Total Size│ Training using Adam │\n",
      "├───────┼─────────────┼──────────┼─────────────────────┤\n",
      "│float32│   1.18 GB   │ 47.88 GB │      191.51 GB      │\n",
      "│float16│  605.02 MB  │ 23.94 GB │       95.76 GB      │\n",
      "│  int8 │  302.51 MB  │ 11.97 GB │         N/A         │\n",
      "│  int4 │  151.25 MB  │ 5.98 GB  │         N/A         │\n",
      "└───────┴─────────────┴──────────┴─────────────────────┘\n"
     ]
    }
   ],
   "source": [
    "!accelerate estimate-memory haoranxu/X-ALMA-13B-Group5 --library_name transformers"
   ]
  },
  {
   "cell_type": "code",
   "execution_count": 4,
   "metadata": {},
   "outputs": [],
   "source": [
    "bnb_config = BitsAndBytesConfig(\n",
    "    load_in_4bit=True,\n",
    "    bnb_4bit_quant_type=\"nf4\",\n",
    "    bnb_4bit_use_double_quant=True,\n",
    "    bnb_4bit_compute_dtype=torch.bfloat16\n",
    ")"
   ]
  },
  {
   "cell_type": "code",
   "execution_count": 6,
   "metadata": {},
   "outputs": [
    {
     "name": "stderr",
     "output_type": "stream",
     "text": [
      "`low_cpu_mem_usage` was None, now default to True since model is quantized.\n"
     ]
    },
    {
     "data": {
      "application/vnd.jupyter.widget-view+json": {
       "model_id": "4466322c78d8449297f4d100688efd1d",
       "version_major": 2,
       "version_minor": 0
      },
      "text/plain": [
       "Downloading shards:   0%|          | 0/6 [00:00<?, ?it/s]"
      ]
     },
     "metadata": {},
     "output_type": "display_data"
    },
    {
     "data": {
      "application/vnd.jupyter.widget-view+json": {
       "model_id": "b270940bd73448d29757f0e71cb495d9",
       "version_major": 2,
       "version_minor": 0
      },
      "text/plain": [
       "Loading checkpoint shards:   0%|          | 0/6 [00:00<?, ?it/s]"
      ]
     },
     "metadata": {},
     "output_type": "display_data"
    }
   ],
   "source": [
    "# loading model\n",
    "model = AutoModelForCausalLM.from_pretrained(model_name, quantization_config=bnb_config, cache_dir=cache_dir).to(device)  \n",
    "tokenizer = AutoTokenizer.from_pretrained(model_name, padding_side=\"left\", cache_dir=cache_dir)"
   ]
  },
  {
   "cell_type": "markdown",
   "metadata": {},
   "source": [
    "### Check token size distribution for a single sentence"
   ]
  },
  {
   "cell_type": "code",
   "execution_count": 9,
   "metadata": {},
   "outputs": [],
   "source": [
    "def calculate_token_histogram(tokenizer, text):\n",
    "    \"\"\"Calculate and display a histogram of token sizes per sentence.\"\"\"\n",
    "    if isinstance(text, bytes):\n",
    "        text = text.decode(\"utf-8\")  # Ensure text is a string\n",
    "\n",
    "    sentences = text.split('. ')\n",
    "    token_counts = defaultdict(int)\n",
    "\n",
    "    for sentence in sentences:\n",
    "        tokenized_length = len(tokenizer(sentence, return_tensors=\"pt\").input_ids[0])\n",
    "        token_counts[tokenized_length] += 1\n",
    "\n",
    "    plt.figure(figsize=(8, 5))\n",
    "    plt.bar(token_counts.keys(), token_counts.values(), color='skyblue')\n",
    "    plt.xlabel('Token Count per Sentence')\n",
    "    plt.ylabel('Frequency')\n",
    "    plt.title('Sentence Token Count Histogram')\n",
    "    plt.grid(True, linestyle='--', alpha=0.7)\n",
    "    plt.show()\n",
    "    return dict(token_counts)"
   ]
  },
  {
   "cell_type": "code",
   "execution_count": 15,
   "metadata": {},
   "outputs": [
    {
     "data": {
      "image/png": "[encoded data removed]",
      "text/plain": [
       "<Figure size 800x500 with 1 Axes>"
      ]
     },
     "metadata": {},
     "output_type": "display_data"
    },
    {
     "data": {
      "text/plain": [
       "{45: 1,\n",
       " 41: 2,\n",
       " 6: 1,\n",
       " 5: 1,\n",
       " 29: 2,\n",
       " 90: 1,\n",
       " 22: 1,\n",
       " 17: 2,\n",
       " 3: 3,\n",
       " 32: 2,\n",
       " 136: 2,\n",
       " 73: 2,\n",
       " 46: 1,\n",
       " 87: 1,\n",
       " 53: 2,\n",
       " 65: 1,\n",
       " 48: 2,\n",
       " 37: 1,\n",
       " 52: 1,\n",
       " 66: 1,\n",
       " 93: 1,\n",
       " 30: 1,\n",
       " 108: 2,\n",
       " 103: 1,\n",
       " 15: 1,\n",
       " 56: 1,\n",
       " 23: 1,\n",
       " 96: 1,\n",
       " 163: 1,\n",
       " 18: 1,\n",
       " 20: 1,\n",
       " 116: 1,\n",
       " 51: 2,\n",
       " 68: 1,\n",
       " 81: 1,\n",
       " 89: 1,\n",
       " 54: 1,\n",
       " 111: 1,\n",
       " 117: 1,\n",
       " 105: 1,\n",
       " 79: 1,\n",
       " 82: 2,\n",
       " 75: 1,\n",
       " 121: 1,\n",
       " 67: 1,\n",
       " 33: 1,\n",
       " 132: 1,\n",
       " 113: 1,\n",
       " 164: 1}"
      ]
     },
     "execution_count": 15,
     "metadata": {},
     "output_type": "execute_result"
    }
   ],
   "source": [
    "text_test = textract.process(\"/home/kamil-solski/Documents/Python/Projekty_py/ALMA/Test_docs/Test_ALMA.docx\").decode(\"utf-8\")\n",
    "calculate_token_histogram(tokenizer, text_test)  # lets just check how many tokens have sentences on average. It will be helpful to adjust max_tokens"
   ]
  },
  {
   "cell_type": "markdown",
   "metadata": {},
   "source": [
    "### Inference of model"
   ]
  },
  {
   "cell_type": "code",
   "execution_count": 11,
   "metadata": {},
   "outputs": [],
   "source": [
    "def split_text_into_chunks(tokenizer, text, max_tokens=250):\n",
    "    \"\"\"Split text into chunks without splitting sentences, ensuring each chunk fits max token size.\"\"\"\n",
    "    sentences = text.split('. ')\n",
    "    chunks, current_chunk = [], \"\"\n",
    "    for sentence in sentences:\n",
    "        temp_chunk = current_chunk + sentence + \". \"\n",
    "        tokenized_length = len(tokenizer(temp_chunk, return_tensors=\"pt\").input_ids[0])\n",
    "        if tokenized_length <= max_tokens:\n",
    "            current_chunk = temp_chunk\n",
    "        else:\n",
    "            if current_chunk:\n",
    "                chunks.append(current_chunk.strip())\n",
    "            current_chunk = sentence + \". \"\n",
    "    if current_chunk:\n",
    "        chunks.append(current_chunk.strip())\n",
    "    return chunks"
   ]
  },
  {
   "cell_type": "code",
   "execution_count": 16,
   "metadata": {},
   "outputs": [],
   "source": [
    "text = \"Translate this from Polish to English:\\nPolish: Tak więc MoE łączy kilka innych modeli, aby wybrać, który ślad (część modelu) powinna zostać użyta do uzyskania prawidłowej odpowiedzi. Jest to technika optymalizacji. Agentic Workflow z drugiej strony to wiele niezależnych modeli, które działają w ramach jakiejś aplikacji, np. jeśli dane wejściowe to obraz, działają agenci wizji komputerowej itp. Bagging trenuje kilka różnych modeli, każdy na innym zbiorze danych i uśrednia wyniki, a boosting używa kilku różnych modeli, z których każdy poprawia błędy poprzedniego. Czy to wyjaśnienie jest poprawne? \\nEnglish:\"\n",
    "chunks = split_text_into_chunks(tokenizer, text)"
   ]
  },
  {
   "cell_type": "code",
   "execution_count": 17,
   "metadata": {},
   "outputs": [
    {
     "name": "stderr",
     "output_type": "stream",
     "text": [
      "Generating progress: 100%|██████████| 1/1 [00:29<00:00, 29.42s/it]"
     ]
    },
    {
     "name": "stdout",
     "output_type": "stream",
     "text": [
      "Generated Output: [INST] Translate this from Polish to English:\n",
      "Polish: Tak więc MoE łączy kilka innych modeli, aby wybrać, który ślad (część modelu) powinna zostać użyta do uzyskania prawidłowej odpowiedzi. Jest to technika optymalizacji. Agentic Workflow z drugiej strony to wiele niezależnych modeli, które działają w ramach jakiejś aplikacji, np. jeśli dane wejściowe to obraz, działają agenci wizji komputerowej itp. Bagging trenuje kilka różnych modeli, każdy na innym zbiorze danych i uśrednia wyniki, a boosting używa kilku różnych modeli, z których każdy poprawia błędy poprzedniego. Czy to wyjaśnienie jest poprawne? \n",
      "English:. [/INST]So, MoE combines several other models to choose which trace (part of the model) should be used to get the correct answer. This is a technique of optimization. Agentic Workflow, on the other hand, is a set of several independent models that work within an application, e.g., if the input is an image, computer vision agents work, etc. Bagging trains several different models, each on a different dataset, and averages the results, while boosting uses several different models, each of which improves the errors of the previous one. Is this explanation correct?\n"
     ]
    },
    {
     "name": "stderr",
     "output_type": "stream",
     "text": [
      "\n"
     ]
    }
   ],
   "source": [
    "# Generate output with adjusted settings\n",
    "output = []\n",
    "for chunk in tqdm(chunks, desc=\"Generating progress\"):\n",
    "    chat_style_prompt = [{\"role\": \"user\", \"content\": chunk}]\n",
    "    prompt = tokenizer.apply_chat_template(chat_style_prompt, tokenize=False, add_generation_prompt=True)\n",
    "    input_ids = tokenizer(prompt, return_tensors=\"pt\", padding=True, truncation=True).input_ids.to(device)\n",
    "    \n",
    "    with torch.no_grad():\n",
    "        generated_ids = model.generate(\n",
    "            input_ids=input_ids,\n",
    "            num_beams=3,           # Lowered beams for faster inference. TODO: check 5\n",
    "            max_new_tokens=2048,   # Extended output length to 2048 tokens wich is maximum possible\n",
    "            do_sample=True,\n",
    "            temperature=0.6,       # Slightly higher temperature for more creative results. TODO: try lower (would be better for translation)\n",
    "            top_p=0.9             # Slightly wider nucleus sampling for diversity. TODO: check other values\n",
    "        )\n",
    "        output.append(tokenizer.batch_decode(generated_ids, skip_special_tokens=True)[0])\n",
    "\n",
    "print(\"Generated Output:\", \" \".join(output))"
   ]
  },
  {
   "cell_type": "code",
   "execution_count": 18,
   "metadata": {},
   "outputs": [
    {
     "data": {
      "text/plain": [
       "['[INST] Translate this from Polish to English:\\nPolish: Tak więc MoE łączy kilka innych modeli, aby wybrać, który ślad (część modelu) powinna zostać użyta do uzyskania prawidłowej odpowiedzi. Jest to technika optymalizacji. Agentic Workflow z drugiej strony to wiele niezależnych modeli, które działają w ramach jakiejś aplikacji, np. jeśli dane wejściowe to obraz, działają agenci wizji komputerowej itp. Bagging trenuje kilka różnych modeli, każdy na innym zbiorze danych i uśrednia wyniki, a boosting używa kilku różnych modeli, z których każdy poprawia błędy poprzedniego. Czy to wyjaśnienie jest poprawne? \\nEnglish:. [/INST]So, MoE combines several other models to choose which trace (part of the model) should be used to get the correct answer. This is a technique of optimization. Agentic Workflow, on the other hand, is a set of several independent models that work within an application, e.g., if the input is an image, computer vision agents work, etc. Bagging trains several different models, each on a different dataset, and averages the results, while boosting uses several different models, each of which improves the errors of the previous one. Is this explanation correct?']"
      ]
     },
     "execution_count": 18,
     "metadata": {},
     "output_type": "execute_result"
    }
   ],
   "source": [
    "output"
   ]
  }
 ],
 "metadata": {
  "kernelspec": {
   "display_name": "ALMA",
   "language": "python",
   "name": "python3"
  },
  "language_info": {
   "codemirror_mode": {
    "name": "ipython",
    "version": 3
   },
   "file_extension": ".py",
   "mimetype": "text/x-python",
   "name": "python",
   "nbconvert_exporter": "python",
   "pygments_lexer": "ipython3",
   "version": "3.11.11"
  }
 },
 "nbformat": 4,
 "nbformat_minor": 2
}
